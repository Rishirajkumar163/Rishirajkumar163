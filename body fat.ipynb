{
 "cells": [
  {
   "cell_type": "code",
   "execution_count": 1,
   "id": "3141bfaf",
   "metadata": {},
   "outputs": [],
   "source": [
    "import pandas as pd\n",
    "import numpy as np\n",
    "import seaborn as sn\n",
    "import matplotlib.pyplot as plt\n"
   ]
  },
  {
   "cell_type": "code",
   "execution_count": 2,
   "id": "836edf9f",
   "metadata": {},
   "outputs": [],
   "source": [
    "df = pd.read_csv(\"bodyfat.csv\", index_col = 0,na_values = [\"??\",\"###\"])"
   ]
  },
  {
   "cell_type": "code",
   "execution_count": 3,
   "id": "dc4fdbbe",
   "metadata": {
    "scrolled": true
   },
   "outputs": [
    {
     "data": {
      "text/html": [
       "<div>\n",
       "<style scoped>\n",
       "    .dataframe tbody tr th:only-of-type {\n",
       "        vertical-align: middle;\n",
       "    }\n",
       "\n",
       "    .dataframe tbody tr th {\n",
       "        vertical-align: top;\n",
       "    }\n",
       "\n",
       "    .dataframe thead th {\n",
       "        text-align: right;\n",
       "    }\n",
       "</style>\n",
       "<table border=\"1\" class=\"dataframe\">\n",
       "  <thead>\n",
       "    <tr style=\"text-align: right;\">\n",
       "      <th></th>\n",
       "      <th>BodyFat</th>\n",
       "      <th>Age</th>\n",
       "      <th>Weight</th>\n",
       "      <th>Height</th>\n",
       "      <th>Neck</th>\n",
       "      <th>Chest</th>\n",
       "      <th>Abdomen</th>\n",
       "      <th>Hip</th>\n",
       "      <th>Thigh</th>\n",
       "      <th>Knee</th>\n",
       "      <th>Ankle</th>\n",
       "      <th>Biceps</th>\n",
       "      <th>Forearm</th>\n",
       "      <th>Wrist</th>\n",
       "    </tr>\n",
       "    <tr>\n",
       "      <th>Density</th>\n",
       "      <th></th>\n",
       "      <th></th>\n",
       "      <th></th>\n",
       "      <th></th>\n",
       "      <th></th>\n",
       "      <th></th>\n",
       "      <th></th>\n",
       "      <th></th>\n",
       "      <th></th>\n",
       "      <th></th>\n",
       "      <th></th>\n",
       "      <th></th>\n",
       "      <th></th>\n",
       "      <th></th>\n",
       "    </tr>\n",
       "  </thead>\n",
       "  <tbody>\n",
       "    <tr>\n",
       "      <th>1.0708</th>\n",
       "      <td>12.3</td>\n",
       "      <td>23</td>\n",
       "      <td>154.25</td>\n",
       "      <td>67.75</td>\n",
       "      <td>36.2</td>\n",
       "      <td>93.1</td>\n",
       "      <td>85.2</td>\n",
       "      <td>94.5</td>\n",
       "      <td>59.0</td>\n",
       "      <td>37.3</td>\n",
       "      <td>21.9</td>\n",
       "      <td>32.0</td>\n",
       "      <td>27.4</td>\n",
       "      <td>17.1</td>\n",
       "    </tr>\n",
       "    <tr>\n",
       "      <th>1.0853</th>\n",
       "      <td>6.1</td>\n",
       "      <td>22</td>\n",
       "      <td>173.25</td>\n",
       "      <td>72.25</td>\n",
       "      <td>38.5</td>\n",
       "      <td>93.6</td>\n",
       "      <td>83.0</td>\n",
       "      <td>98.7</td>\n",
       "      <td>58.7</td>\n",
       "      <td>37.3</td>\n",
       "      <td>23.4</td>\n",
       "      <td>30.5</td>\n",
       "      <td>28.9</td>\n",
       "      <td>18.2</td>\n",
       "    </tr>\n",
       "    <tr>\n",
       "      <th>1.0414</th>\n",
       "      <td>25.3</td>\n",
       "      <td>22</td>\n",
       "      <td>154.00</td>\n",
       "      <td>66.25</td>\n",
       "      <td>34.0</td>\n",
       "      <td>95.8</td>\n",
       "      <td>87.9</td>\n",
       "      <td>99.2</td>\n",
       "      <td>59.6</td>\n",
       "      <td>38.9</td>\n",
       "      <td>24.0</td>\n",
       "      <td>28.8</td>\n",
       "      <td>25.2</td>\n",
       "      <td>16.6</td>\n",
       "    </tr>\n",
       "    <tr>\n",
       "      <th>1.0751</th>\n",
       "      <td>10.4</td>\n",
       "      <td>26</td>\n",
       "      <td>184.75</td>\n",
       "      <td>72.25</td>\n",
       "      <td>37.4</td>\n",
       "      <td>101.8</td>\n",
       "      <td>86.4</td>\n",
       "      <td>101.2</td>\n",
       "      <td>60.1</td>\n",
       "      <td>37.3</td>\n",
       "      <td>22.8</td>\n",
       "      <td>32.4</td>\n",
       "      <td>29.4</td>\n",
       "      <td>18.2</td>\n",
       "    </tr>\n",
       "    <tr>\n",
       "      <th>1.0340</th>\n",
       "      <td>28.7</td>\n",
       "      <td>24</td>\n",
       "      <td>184.25</td>\n",
       "      <td>71.25</td>\n",
       "      <td>34.4</td>\n",
       "      <td>97.3</td>\n",
       "      <td>100.0</td>\n",
       "      <td>101.9</td>\n",
       "      <td>63.2</td>\n",
       "      <td>42.2</td>\n",
       "      <td>24.0</td>\n",
       "      <td>32.2</td>\n",
       "      <td>27.7</td>\n",
       "      <td>17.7</td>\n",
       "    </tr>\n",
       "  </tbody>\n",
       "</table>\n",
       "</div>"
      ],
      "text/plain": [
       "         BodyFat  Age  Weight  Height  Neck  Chest  Abdomen    Hip  Thigh  \\\n",
       "Density                                                                     \n",
       "1.0708      12.3   23  154.25   67.75  36.2   93.1     85.2   94.5   59.0   \n",
       "1.0853       6.1   22  173.25   72.25  38.5   93.6     83.0   98.7   58.7   \n",
       "1.0414      25.3   22  154.00   66.25  34.0   95.8     87.9   99.2   59.6   \n",
       "1.0751      10.4   26  184.75   72.25  37.4  101.8     86.4  101.2   60.1   \n",
       "1.0340      28.7   24  184.25   71.25  34.4   97.3    100.0  101.9   63.2   \n",
       "\n",
       "         Knee  Ankle  Biceps  Forearm  Wrist  \n",
       "Density                                       \n",
       "1.0708   37.3   21.9    32.0     27.4   17.1  \n",
       "1.0853   37.3   23.4    30.5     28.9   18.2  \n",
       "1.0414   38.9   24.0    28.8     25.2   16.6  \n",
       "1.0751   37.3   22.8    32.4     29.4   18.2  \n",
       "1.0340   42.2   24.0    32.2     27.7   17.7  "
      ]
     },
     "execution_count": 3,
     "metadata": {},
     "output_type": "execute_result"
    }
   ],
   "source": [
    "df.head()"
   ]
  },
  {
   "cell_type": "code",
   "execution_count": 4,
   "id": "cab1d3b7",
   "metadata": {},
   "outputs": [],
   "source": [
    "target = df[\"BodyFat\"]"
   ]
  },
  {
   "cell_type": "code",
   "execution_count": 6,
   "id": "c5f15118",
   "metadata": {},
   "outputs": [
    {
     "data": {
      "text/html": [
       "<div>\n",
       "<style scoped>\n",
       "    .dataframe tbody tr th:only-of-type {\n",
       "        vertical-align: middle;\n",
       "    }\n",
       "\n",
       "    .dataframe tbody tr th {\n",
       "        vertical-align: top;\n",
       "    }\n",
       "\n",
       "    .dataframe thead th {\n",
       "        text-align: right;\n",
       "    }\n",
       "</style>\n",
       "<table border=\"1\" class=\"dataframe\">\n",
       "  <thead>\n",
       "    <tr style=\"text-align: right;\">\n",
       "      <th></th>\n",
       "      <th>BodyFat</th>\n",
       "      <th>Age</th>\n",
       "      <th>Weight</th>\n",
       "      <th>Height</th>\n",
       "      <th>Neck</th>\n",
       "      <th>Chest</th>\n",
       "      <th>Abdomen</th>\n",
       "      <th>Hip</th>\n",
       "      <th>Thigh</th>\n",
       "      <th>Knee</th>\n",
       "      <th>Ankle</th>\n",
       "      <th>Biceps</th>\n",
       "      <th>Forearm</th>\n",
       "      <th>Wrist</th>\n",
       "    </tr>\n",
       "  </thead>\n",
       "  <tbody>\n",
       "    <tr>\n",
       "      <th>count</th>\n",
       "      <td>252.000000</td>\n",
       "      <td>252.000000</td>\n",
       "      <td>252.000000</td>\n",
       "      <td>252.000000</td>\n",
       "      <td>252.000000</td>\n",
       "      <td>252.000000</td>\n",
       "      <td>252.000000</td>\n",
       "      <td>252.000000</td>\n",
       "      <td>252.000000</td>\n",
       "      <td>252.000000</td>\n",
       "      <td>252.000000</td>\n",
       "      <td>252.000000</td>\n",
       "      <td>252.000000</td>\n",
       "      <td>252.000000</td>\n",
       "    </tr>\n",
       "    <tr>\n",
       "      <th>mean</th>\n",
       "      <td>19.150794</td>\n",
       "      <td>44.884921</td>\n",
       "      <td>178.924405</td>\n",
       "      <td>70.148810</td>\n",
       "      <td>37.992063</td>\n",
       "      <td>100.824206</td>\n",
       "      <td>92.555952</td>\n",
       "      <td>99.904762</td>\n",
       "      <td>59.405952</td>\n",
       "      <td>38.590476</td>\n",
       "      <td>23.102381</td>\n",
       "      <td>32.273413</td>\n",
       "      <td>28.663889</td>\n",
       "      <td>18.229762</td>\n",
       "    </tr>\n",
       "    <tr>\n",
       "      <th>std</th>\n",
       "      <td>8.368740</td>\n",
       "      <td>12.602040</td>\n",
       "      <td>29.389160</td>\n",
       "      <td>3.662856</td>\n",
       "      <td>2.430913</td>\n",
       "      <td>8.430476</td>\n",
       "      <td>10.783077</td>\n",
       "      <td>7.164058</td>\n",
       "      <td>5.249952</td>\n",
       "      <td>2.411805</td>\n",
       "      <td>1.694893</td>\n",
       "      <td>3.021274</td>\n",
       "      <td>2.020691</td>\n",
       "      <td>0.933585</td>\n",
       "    </tr>\n",
       "    <tr>\n",
       "      <th>min</th>\n",
       "      <td>0.000000</td>\n",
       "      <td>22.000000</td>\n",
       "      <td>118.500000</td>\n",
       "      <td>29.500000</td>\n",
       "      <td>31.100000</td>\n",
       "      <td>79.300000</td>\n",
       "      <td>69.400000</td>\n",
       "      <td>85.000000</td>\n",
       "      <td>47.200000</td>\n",
       "      <td>33.000000</td>\n",
       "      <td>19.100000</td>\n",
       "      <td>24.800000</td>\n",
       "      <td>21.000000</td>\n",
       "      <td>15.800000</td>\n",
       "    </tr>\n",
       "    <tr>\n",
       "      <th>25%</th>\n",
       "      <td>12.475000</td>\n",
       "      <td>35.750000</td>\n",
       "      <td>159.000000</td>\n",
       "      <td>68.250000</td>\n",
       "      <td>36.400000</td>\n",
       "      <td>94.350000</td>\n",
       "      <td>84.575000</td>\n",
       "      <td>95.500000</td>\n",
       "      <td>56.000000</td>\n",
       "      <td>36.975000</td>\n",
       "      <td>22.000000</td>\n",
       "      <td>30.200000</td>\n",
       "      <td>27.300000</td>\n",
       "      <td>17.600000</td>\n",
       "    </tr>\n",
       "    <tr>\n",
       "      <th>50%</th>\n",
       "      <td>19.200000</td>\n",
       "      <td>43.000000</td>\n",
       "      <td>176.500000</td>\n",
       "      <td>70.000000</td>\n",
       "      <td>38.000000</td>\n",
       "      <td>99.650000</td>\n",
       "      <td>90.950000</td>\n",
       "      <td>99.300000</td>\n",
       "      <td>59.000000</td>\n",
       "      <td>38.500000</td>\n",
       "      <td>22.800000</td>\n",
       "      <td>32.050000</td>\n",
       "      <td>28.700000</td>\n",
       "      <td>18.300000</td>\n",
       "    </tr>\n",
       "    <tr>\n",
       "      <th>75%</th>\n",
       "      <td>25.300000</td>\n",
       "      <td>54.000000</td>\n",
       "      <td>197.000000</td>\n",
       "      <td>72.250000</td>\n",
       "      <td>39.425000</td>\n",
       "      <td>105.375000</td>\n",
       "      <td>99.325000</td>\n",
       "      <td>103.525000</td>\n",
       "      <td>62.350000</td>\n",
       "      <td>39.925000</td>\n",
       "      <td>24.000000</td>\n",
       "      <td>34.325000</td>\n",
       "      <td>30.000000</td>\n",
       "      <td>18.800000</td>\n",
       "    </tr>\n",
       "    <tr>\n",
       "      <th>max</th>\n",
       "      <td>47.500000</td>\n",
       "      <td>81.000000</td>\n",
       "      <td>363.150000</td>\n",
       "      <td>77.750000</td>\n",
       "      <td>51.200000</td>\n",
       "      <td>136.200000</td>\n",
       "      <td>148.100000</td>\n",
       "      <td>147.700000</td>\n",
       "      <td>87.300000</td>\n",
       "      <td>49.100000</td>\n",
       "      <td>33.900000</td>\n",
       "      <td>45.000000</td>\n",
       "      <td>34.900000</td>\n",
       "      <td>21.400000</td>\n",
       "    </tr>\n",
       "  </tbody>\n",
       "</table>\n",
       "</div>"
      ],
      "text/plain": [
       "          BodyFat         Age      Weight      Height        Neck       Chest  \\\n",
       "count  252.000000  252.000000  252.000000  252.000000  252.000000  252.000000   \n",
       "mean    19.150794   44.884921  178.924405   70.148810   37.992063  100.824206   \n",
       "std      8.368740   12.602040   29.389160    3.662856    2.430913    8.430476   \n",
       "min      0.000000   22.000000  118.500000   29.500000   31.100000   79.300000   \n",
       "25%     12.475000   35.750000  159.000000   68.250000   36.400000   94.350000   \n",
       "50%     19.200000   43.000000  176.500000   70.000000   38.000000   99.650000   \n",
       "75%     25.300000   54.000000  197.000000   72.250000   39.425000  105.375000   \n",
       "max     47.500000   81.000000  363.150000   77.750000   51.200000  136.200000   \n",
       "\n",
       "          Abdomen         Hip       Thigh        Knee       Ankle      Biceps  \\\n",
       "count  252.000000  252.000000  252.000000  252.000000  252.000000  252.000000   \n",
       "mean    92.555952   99.904762   59.405952   38.590476   23.102381   32.273413   \n",
       "std     10.783077    7.164058    5.249952    2.411805    1.694893    3.021274   \n",
       "min     69.400000   85.000000   47.200000   33.000000   19.100000   24.800000   \n",
       "25%     84.575000   95.500000   56.000000   36.975000   22.000000   30.200000   \n",
       "50%     90.950000   99.300000   59.000000   38.500000   22.800000   32.050000   \n",
       "75%     99.325000  103.525000   62.350000   39.925000   24.000000   34.325000   \n",
       "max    148.100000  147.700000   87.300000   49.100000   33.900000   45.000000   \n",
       "\n",
       "          Forearm       Wrist  \n",
       "count  252.000000  252.000000  \n",
       "mean    28.663889   18.229762  \n",
       "std      2.020691    0.933585  \n",
       "min     21.000000   15.800000  \n",
       "25%     27.300000   17.600000  \n",
       "50%     28.700000   18.300000  \n",
       "75%     30.000000   18.800000  \n",
       "max     34.900000   21.400000  "
      ]
     },
     "execution_count": 6,
     "metadata": {},
     "output_type": "execute_result"
    }
   ],
   "source": [
    "df.describe()"
   ]
  },
  {
   "cell_type": "code",
   "execution_count": 7,
   "id": "cf625edf",
   "metadata": {},
   "outputs": [
    {
     "data": {
      "text/plain": [
       "BodyFat    0\n",
       "Age        0\n",
       "Weight     0\n",
       "Height     0\n",
       "Neck       0\n",
       "Chest      0\n",
       "Abdomen    0\n",
       "Hip        0\n",
       "Thigh      0\n",
       "Knee       0\n",
       "Ankle      0\n",
       "Biceps     0\n",
       "Forearm    0\n",
       "Wrist      0\n",
       "dtype: int64"
      ]
     },
     "execution_count": 7,
     "metadata": {},
     "output_type": "execute_result"
    }
   ],
   "source": [
    "df.isna().sum()   # checking null values"
   ]
  },
  {
   "cell_type": "code",
   "execution_count": 8,
   "id": "16a8940a",
   "metadata": {},
   "outputs": [
    {
     "data": {
      "text/plain": [
       "3528"
      ]
     },
     "execution_count": 8,
     "metadata": {},
     "output_type": "execute_result"
    }
   ],
   "source": [
    "df.size"
   ]
  },
  {
   "cell_type": "code",
   "execution_count": 10,
   "id": "aa914063",
   "metadata": {},
   "outputs": [
    {
     "data": {
      "text/plain": [
       "(252, 14)"
      ]
     },
     "execution_count": 10,
     "metadata": {},
     "output_type": "execute_result"
    }
   ],
   "source": [
    "df.shape"
   ]
  },
  {
   "cell_type": "code",
   "execution_count": 11,
   "id": "7cb8671d",
   "metadata": {},
   "outputs": [
    {
     "data": {
      "text/plain": [
       "Index(['BodyFat', 'Age', 'Weight', 'Height', 'Neck', 'Chest', 'Abdomen', 'Hip',\n",
       "       'Thigh', 'Knee', 'Ankle', 'Biceps', 'Forearm', 'Wrist'],\n",
       "      dtype='object')"
      ]
     },
     "execution_count": 11,
     "metadata": {},
     "output_type": "execute_result"
    }
   ],
   "source": [
    "df.columns"
   ]
  },
  {
   "cell_type": "code",
   "execution_count": 13,
   "id": "cfff1101",
   "metadata": {},
   "outputs": [
    {
     "data": {
      "text/plain": [
       "BodyFat    float64\n",
       "Age          int64\n",
       "Weight     float64\n",
       "Height     float64\n",
       "Neck       float64\n",
       "Chest      float64\n",
       "Abdomen    float64\n",
       "Hip        float64\n",
       "Thigh      float64\n",
       "Knee       float64\n",
       "Ankle      float64\n",
       "Biceps     float64\n",
       "Forearm    float64\n",
       "Wrist      float64\n",
       "dtype: object"
      ]
     },
     "execution_count": 13,
     "metadata": {},
     "output_type": "execute_result"
    }
   ],
   "source": [
    "df.dtypes"
   ]
  },
  {
   "cell_type": "code",
   "execution_count": 15,
   "id": "1dec2c1c",
   "metadata": {},
   "outputs": [],
   "source": [
    "#df[\"Age\"].round()"
   ]
  },
  {
   "cell_type": "code",
   "execution_count": 21,
   "id": "ca762a53",
   "metadata": {},
   "outputs": [
    {
     "data": {
      "text/html": [
       "<div>\n",
       "<style scoped>\n",
       "    .dataframe tbody tr th:only-of-type {\n",
       "        vertical-align: middle;\n",
       "    }\n",
       "\n",
       "    .dataframe tbody tr th {\n",
       "        vertical-align: top;\n",
       "    }\n",
       "\n",
       "    .dataframe thead th {\n",
       "        text-align: right;\n",
       "    }\n",
       "</style>\n",
       "<table border=\"1\" class=\"dataframe\">\n",
       "  <thead>\n",
       "    <tr style=\"text-align: right;\">\n",
       "      <th></th>\n",
       "      <th>BodyFat</th>\n",
       "      <th>Age</th>\n",
       "      <th>Weight</th>\n",
       "      <th>Height</th>\n",
       "      <th>Neck</th>\n",
       "      <th>Chest</th>\n",
       "      <th>Abdomen</th>\n",
       "      <th>Hip</th>\n",
       "      <th>Thigh</th>\n",
       "      <th>Knee</th>\n",
       "      <th>Ankle</th>\n",
       "      <th>Biceps</th>\n",
       "      <th>Forearm</th>\n",
       "      <th>Wrist</th>\n",
       "    </tr>\n",
       "  </thead>\n",
       "  <tbody>\n",
       "    <tr>\n",
       "      <th>BodyFat</th>\n",
       "      <td>1.000000</td>\n",
       "      <td>0.291458</td>\n",
       "      <td>0.612414</td>\n",
       "      <td>-0.089495</td>\n",
       "      <td>0.490592</td>\n",
       "      <td>0.702620</td>\n",
       "      <td>0.813432</td>\n",
       "      <td>0.625201</td>\n",
       "      <td>0.559608</td>\n",
       "      <td>0.508665</td>\n",
       "      <td>0.265970</td>\n",
       "      <td>0.493271</td>\n",
       "      <td>0.361387</td>\n",
       "      <td>0.346575</td>\n",
       "    </tr>\n",
       "    <tr>\n",
       "      <th>Age</th>\n",
       "      <td>0.291458</td>\n",
       "      <td>1.000000</td>\n",
       "      <td>-0.012746</td>\n",
       "      <td>-0.171645</td>\n",
       "      <td>0.113505</td>\n",
       "      <td>0.176450</td>\n",
       "      <td>0.230409</td>\n",
       "      <td>-0.050332</td>\n",
       "      <td>-0.200096</td>\n",
       "      <td>0.017516</td>\n",
       "      <td>-0.105058</td>\n",
       "      <td>-0.041162</td>\n",
       "      <td>-0.085056</td>\n",
       "      <td>0.213531</td>\n",
       "    </tr>\n",
       "    <tr>\n",
       "      <th>Weight</th>\n",
       "      <td>0.612414</td>\n",
       "      <td>-0.012746</td>\n",
       "      <td>1.000000</td>\n",
       "      <td>0.308279</td>\n",
       "      <td>0.830716</td>\n",
       "      <td>0.894191</td>\n",
       "      <td>0.887995</td>\n",
       "      <td>0.940884</td>\n",
       "      <td>0.868694</td>\n",
       "      <td>0.853167</td>\n",
       "      <td>0.613685</td>\n",
       "      <td>0.800416</td>\n",
       "      <td>0.630301</td>\n",
       "      <td>0.729775</td>\n",
       "    </tr>\n",
       "    <tr>\n",
       "      <th>Height</th>\n",
       "      <td>-0.089495</td>\n",
       "      <td>-0.171645</td>\n",
       "      <td>0.308279</td>\n",
       "      <td>1.000000</td>\n",
       "      <td>0.253710</td>\n",
       "      <td>0.134892</td>\n",
       "      <td>0.087813</td>\n",
       "      <td>0.170394</td>\n",
       "      <td>0.148436</td>\n",
       "      <td>0.286053</td>\n",
       "      <td>0.264744</td>\n",
       "      <td>0.207816</td>\n",
       "      <td>0.228649</td>\n",
       "      <td>0.322065</td>\n",
       "    </tr>\n",
       "    <tr>\n",
       "      <th>Neck</th>\n",
       "      <td>0.490592</td>\n",
       "      <td>0.113505</td>\n",
       "      <td>0.830716</td>\n",
       "      <td>0.253710</td>\n",
       "      <td>1.000000</td>\n",
       "      <td>0.784835</td>\n",
       "      <td>0.754077</td>\n",
       "      <td>0.734958</td>\n",
       "      <td>0.695697</td>\n",
       "      <td>0.672405</td>\n",
       "      <td>0.477892</td>\n",
       "      <td>0.731146</td>\n",
       "      <td>0.623660</td>\n",
       "      <td>0.744826</td>\n",
       "    </tr>\n",
       "    <tr>\n",
       "      <th>Chest</th>\n",
       "      <td>0.702620</td>\n",
       "      <td>0.176450</td>\n",
       "      <td>0.894191</td>\n",
       "      <td>0.134892</td>\n",
       "      <td>0.784835</td>\n",
       "      <td>1.000000</td>\n",
       "      <td>0.915828</td>\n",
       "      <td>0.829420</td>\n",
       "      <td>0.729859</td>\n",
       "      <td>0.719496</td>\n",
       "      <td>0.482988</td>\n",
       "      <td>0.727907</td>\n",
       "      <td>0.580173</td>\n",
       "      <td>0.660162</td>\n",
       "    </tr>\n",
       "    <tr>\n",
       "      <th>Abdomen</th>\n",
       "      <td>0.813432</td>\n",
       "      <td>0.230409</td>\n",
       "      <td>0.887995</td>\n",
       "      <td>0.087813</td>\n",
       "      <td>0.754077</td>\n",
       "      <td>0.915828</td>\n",
       "      <td>1.000000</td>\n",
       "      <td>0.874066</td>\n",
       "      <td>0.766624</td>\n",
       "      <td>0.737179</td>\n",
       "      <td>0.453223</td>\n",
       "      <td>0.684983</td>\n",
       "      <td>0.503316</td>\n",
       "      <td>0.619832</td>\n",
       "    </tr>\n",
       "    <tr>\n",
       "      <th>Hip</th>\n",
       "      <td>0.625201</td>\n",
       "      <td>-0.050332</td>\n",
       "      <td>0.940884</td>\n",
       "      <td>0.170394</td>\n",
       "      <td>0.734958</td>\n",
       "      <td>0.829420</td>\n",
       "      <td>0.874066</td>\n",
       "      <td>1.000000</td>\n",
       "      <td>0.896410</td>\n",
       "      <td>0.823473</td>\n",
       "      <td>0.558387</td>\n",
       "      <td>0.739273</td>\n",
       "      <td>0.545014</td>\n",
       "      <td>0.630090</td>\n",
       "    </tr>\n",
       "    <tr>\n",
       "      <th>Thigh</th>\n",
       "      <td>0.559608</td>\n",
       "      <td>-0.200096</td>\n",
       "      <td>0.868694</td>\n",
       "      <td>0.148436</td>\n",
       "      <td>0.695697</td>\n",
       "      <td>0.729859</td>\n",
       "      <td>0.766624</td>\n",
       "      <td>0.896410</td>\n",
       "      <td>1.000000</td>\n",
       "      <td>0.799170</td>\n",
       "      <td>0.539797</td>\n",
       "      <td>0.761477</td>\n",
       "      <td>0.566842</td>\n",
       "      <td>0.558685</td>\n",
       "    </tr>\n",
       "    <tr>\n",
       "      <th>Knee</th>\n",
       "      <td>0.508665</td>\n",
       "      <td>0.017516</td>\n",
       "      <td>0.853167</td>\n",
       "      <td>0.286053</td>\n",
       "      <td>0.672405</td>\n",
       "      <td>0.719496</td>\n",
       "      <td>0.737179</td>\n",
       "      <td>0.823473</td>\n",
       "      <td>0.799170</td>\n",
       "      <td>1.000000</td>\n",
       "      <td>0.611608</td>\n",
       "      <td>0.678709</td>\n",
       "      <td>0.555898</td>\n",
       "      <td>0.664507</td>\n",
       "    </tr>\n",
       "    <tr>\n",
       "      <th>Ankle</th>\n",
       "      <td>0.265970</td>\n",
       "      <td>-0.105058</td>\n",
       "      <td>0.613685</td>\n",
       "      <td>0.264744</td>\n",
       "      <td>0.477892</td>\n",
       "      <td>0.482988</td>\n",
       "      <td>0.453223</td>\n",
       "      <td>0.558387</td>\n",
       "      <td>0.539797</td>\n",
       "      <td>0.611608</td>\n",
       "      <td>1.000000</td>\n",
       "      <td>0.484855</td>\n",
       "      <td>0.419050</td>\n",
       "      <td>0.566195</td>\n",
       "    </tr>\n",
       "    <tr>\n",
       "      <th>Biceps</th>\n",
       "      <td>0.493271</td>\n",
       "      <td>-0.041162</td>\n",
       "      <td>0.800416</td>\n",
       "      <td>0.207816</td>\n",
       "      <td>0.731146</td>\n",
       "      <td>0.727907</td>\n",
       "      <td>0.684983</td>\n",
       "      <td>0.739273</td>\n",
       "      <td>0.761477</td>\n",
       "      <td>0.678709</td>\n",
       "      <td>0.484855</td>\n",
       "      <td>1.000000</td>\n",
       "      <td>0.678255</td>\n",
       "      <td>0.632126</td>\n",
       "    </tr>\n",
       "    <tr>\n",
       "      <th>Forearm</th>\n",
       "      <td>0.361387</td>\n",
       "      <td>-0.085056</td>\n",
       "      <td>0.630301</td>\n",
       "      <td>0.228649</td>\n",
       "      <td>0.623660</td>\n",
       "      <td>0.580173</td>\n",
       "      <td>0.503316</td>\n",
       "      <td>0.545014</td>\n",
       "      <td>0.566842</td>\n",
       "      <td>0.555898</td>\n",
       "      <td>0.419050</td>\n",
       "      <td>0.678255</td>\n",
       "      <td>1.000000</td>\n",
       "      <td>0.585588</td>\n",
       "    </tr>\n",
       "    <tr>\n",
       "      <th>Wrist</th>\n",
       "      <td>0.346575</td>\n",
       "      <td>0.213531</td>\n",
       "      <td>0.729775</td>\n",
       "      <td>0.322065</td>\n",
       "      <td>0.744826</td>\n",
       "      <td>0.660162</td>\n",
       "      <td>0.619832</td>\n",
       "      <td>0.630090</td>\n",
       "      <td>0.558685</td>\n",
       "      <td>0.664507</td>\n",
       "      <td>0.566195</td>\n",
       "      <td>0.632126</td>\n",
       "      <td>0.585588</td>\n",
       "      <td>1.000000</td>\n",
       "    </tr>\n",
       "  </tbody>\n",
       "</table>\n",
       "</div>"
      ],
      "text/plain": [
       "          BodyFat       Age    Weight    Height      Neck     Chest   Abdomen  \\\n",
       "BodyFat  1.000000  0.291458  0.612414 -0.089495  0.490592  0.702620  0.813432   \n",
       "Age      0.291458  1.000000 -0.012746 -0.171645  0.113505  0.176450  0.230409   \n",
       "Weight   0.612414 -0.012746  1.000000  0.308279  0.830716  0.894191  0.887995   \n",
       "Height  -0.089495 -0.171645  0.308279  1.000000  0.253710  0.134892  0.087813   \n",
       "Neck     0.490592  0.113505  0.830716  0.253710  1.000000  0.784835  0.754077   \n",
       "Chest    0.702620  0.176450  0.894191  0.134892  0.784835  1.000000  0.915828   \n",
       "Abdomen  0.813432  0.230409  0.887995  0.087813  0.754077  0.915828  1.000000   \n",
       "Hip      0.625201 -0.050332  0.940884  0.170394  0.734958  0.829420  0.874066   \n",
       "Thigh    0.559608 -0.200096  0.868694  0.148436  0.695697  0.729859  0.766624   \n",
       "Knee     0.508665  0.017516  0.853167  0.286053  0.672405  0.719496  0.737179   \n",
       "Ankle    0.265970 -0.105058  0.613685  0.264744  0.477892  0.482988  0.453223   \n",
       "Biceps   0.493271 -0.041162  0.800416  0.207816  0.731146  0.727907  0.684983   \n",
       "Forearm  0.361387 -0.085056  0.630301  0.228649  0.623660  0.580173  0.503316   \n",
       "Wrist    0.346575  0.213531  0.729775  0.322065  0.744826  0.660162  0.619832   \n",
       "\n",
       "              Hip     Thigh      Knee     Ankle    Biceps   Forearm     Wrist  \n",
       "BodyFat  0.625201  0.559608  0.508665  0.265970  0.493271  0.361387  0.346575  \n",
       "Age     -0.050332 -0.200096  0.017516 -0.105058 -0.041162 -0.085056  0.213531  \n",
       "Weight   0.940884  0.868694  0.853167  0.613685  0.800416  0.630301  0.729775  \n",
       "Height   0.170394  0.148436  0.286053  0.264744  0.207816  0.228649  0.322065  \n",
       "Neck     0.734958  0.695697  0.672405  0.477892  0.731146  0.623660  0.744826  \n",
       "Chest    0.829420  0.729859  0.719496  0.482988  0.727907  0.580173  0.660162  \n",
       "Abdomen  0.874066  0.766624  0.737179  0.453223  0.684983  0.503316  0.619832  \n",
       "Hip      1.000000  0.896410  0.823473  0.558387  0.739273  0.545014  0.630090  \n",
       "Thigh    0.896410  1.000000  0.799170  0.539797  0.761477  0.566842  0.558685  \n",
       "Knee     0.823473  0.799170  1.000000  0.611608  0.678709  0.555898  0.664507  \n",
       "Ankle    0.558387  0.539797  0.611608  1.000000  0.484855  0.419050  0.566195  \n",
       "Biceps   0.739273  0.761477  0.678709  0.484855  1.000000  0.678255  0.632126  \n",
       "Forearm  0.545014  0.566842  0.555898  0.419050  0.678255  1.000000  0.585588  \n",
       "Wrist    0.630090  0.558685  0.664507  0.566195  0.632126  0.585588  1.000000  "
      ]
     },
     "execution_count": 21,
     "metadata": {},
     "output_type": "execute_result"
    }
   ],
   "source": [
    "df.corr()"
   ]
  },
  {
   "cell_type": "code",
   "execution_count": 22,
   "id": "6c9e8ae1",
   "metadata": {},
   "outputs": [
    {
     "data": {
      "text/plain": [
       "<AxesSubplot:>"
      ]
     },
     "execution_count": 22,
     "metadata": {},
     "output_type": "execute_result"
    },
    {
     "data": {
      "image/png": "[encoded data removed]",
      "text/plain": [
       "<Figure size 1440x720 with 2 Axes>"
      ]
     },
     "metadata": {
      "needs_background": "light"
     },
     "output_type": "display_data"
    }
   ],
   "source": [
    "corr = df.corr()\n",
    "mask = np.array(corr)\n",
    "mask[np.tril_indices_from(mask)] = False\n",
    "fig,ax= plt.subplots()\n",
    "fig.set_size_inches(20,10)\n",
    "sn.heatmap(corr, mask=mask,vmax=.9, square=True,annot=True, cmap=\"YlGnBu\")"
   ]
  },
  {
   "cell_type": "markdown",
   "id": "f6e2c5b5",
   "metadata": {},
   "source": [
    "    Insides of datasets\n",
    "\n",
    "1. Abdomen is highly correlated to fat as it is possible by logically also.\n",
    "2. Age dosen't matter for the fat of body\n",
    "3. highted people having less fat\n",
    "4. Abdomen increase the weigth and fat \n",
    "5. Hip is highly related to weight and as weight related to fat"
   ]
  },
  {
   "cell_type": "code",
   "execution_count": 26,
   "id": "189f3e47",
   "metadata": {},
   "outputs": [
    {
     "data": {
      "text/plain": [
       "(array([27., 22., 26., 63., 43., 32., 14., 16.,  8.,  1.]),\n",
       " array([22. , 27.9, 33.8, 39.7, 45.6, 51.5, 57.4, 63.3, 69.2, 75.1, 81. ]),\n",
       " <BarContainer object of 10 artists>)"
      ]
     },
     "execution_count": 26,
     "metadata": {},
     "output_type": "execute_result"
    },
    {
     "data": {
      "image/png": "[encoded data removed]",
      "text/plain": [
       "<Figure size 432x288 with 1 Axes>"
      ]
     },
     "metadata": {
      "needs_background": "light"
     },
     "output_type": "display_data"
    }
   ],
   "source": [
    "plt.hist(df[\"Age\"])"
   ]
  },
  {
   "cell_type": "code",
   "execution_count": 27,
   "id": "7c8edb4b",
   "metadata": {
    "scrolled": true
   },
   "outputs": [
    {
     "data": {
      "text/plain": [
       "(array([ 8., 28., 42., 45., 53., 40., 27.,  6.,  2.,  1.]),\n",
       " array([ 0.  ,  4.75,  9.5 , 14.25, 19.  , 23.75, 28.5 , 33.25, 38.  ,\n",
       "        42.75, 47.5 ]),\n",
       " <BarContainer object of 10 artists>)"
      ]
     },
     "execution_count": 27,
     "metadata": {},
     "output_type": "execute_result"
    },
    {
     "data": {
      "image/png": "[encoded data removed]",
      "text/plain": [
       "<Figure size 432x288 with 1 Axes>"
      ]
     },
     "metadata": {
      "needs_background": "light"
     },
     "output_type": "display_data"
    }
   ],
   "source": [
    "plt.hist(df['BodyFat'])"
   ]
  },
  {
   "cell_type": "code",
   "execution_count": 31,
   "id": "59477c5b",
   "metadata": {},
   "outputs": [
    {
     "data": {
      "text/plain": [
       "<AxesSubplot:xlabel='Abdomen', ylabel='BodyFat'>"
      ]
     },
     "execution_count": 31,
     "metadata": {},
     "output_type": "execute_result"
    },
    {
     "data": {
      "image/png": "[encoded data removed]",
      "text/plain": [
       "<Figure size 432x288 with 1 Axes>"
      ]
     },
     "metadata": {
      "needs_background": "light"
     },
     "output_type": "display_data"
    }
   ],
   "source": [
    "sn.regplot(x = df['Abdomen'], y = df['BodyFat'])      #regression line"
   ]
  },
  {
   "cell_type": "markdown",
   "id": "3b1462fe",
   "metadata": {},
   "source": [
    "linerarly realted\n"
   ]
  },
  {
   "cell_type": "code",
   "execution_count": 35,
   "id": "e007ee3a",
   "metadata": {},
   "outputs": [
    {
     "data": {
      "text/plain": [
       "<seaborn.axisgrid.FacetGrid at 0x16860a4a700>"
      ]
     },
     "execution_count": 35,
     "metadata": {},
     "output_type": "execute_result"
    },
    {
     "data": {
      "image/png": "[encoded data removed]",
      "text/plain": [
       "<Figure size 360x360 with 1 Axes>"
      ]
     },
     "metadata": {
      "needs_background": "light"
     },
     "output_type": "display_data"
    }
   ],
   "source": [
    "sn.lmplot(x = 'Weight', y = 'Abdomen', data = df, fit_reg = False, legend = True)"
   ]
  },
  {
   "cell_type": "code",
   "execution_count": 36,
   "id": "3e9bdb89",
   "metadata": {},
   "outputs": [],
   "source": [
    "from pandas_profiling import ProfileReport"
   ]
  },
  {
   "cell_type": "code",
   "execution_count": 38,
   "id": "127c5e59",
   "metadata": {},
   "outputs": [
    {
     "data": {
      "application/vnd.jupyter.widget-view+json": {
       "model_id": "7bfec3871c134470926c44837e5ac261",
       "version_major": 2,
       "version_minor": 0
      },
      "text/plain": [
       "Tab(children=(HTML(value='<div id=\"overview-content\" class=\"row variable spacing\">\\n    <div class=\"row\">\\n   …"
      ]
     },
     "metadata": {},
     "output_type": "display_data"
    },
    {
     "data": {
      "text/html": [
       "Report generated with <a href=\"https://github.com/pandas-profiling/pandas-profiling\">pandas-profiling</a>."
      ],
      "text/plain": [
       "<IPython.core.display.HTML object>"
      ]
     },
     "metadata": {},
     "output_type": "display_data"
    },
    {
     "data": {
      "text/plain": []
     },
     "execution_count": 38,
     "metadata": {},
     "output_type": "execute_result"
    }
   ],
   "source": [
    "ProfileReport(df)"
   ]
  },
  {
   "cell_type": "code",
   "execution_count": 41,
   "id": "039ce2e9",
   "metadata": {},
   "outputs": [],
   "source": [
    "from sklearn.model_selection import train_test_split\n",
    "from sklearn.linear_model import LogisticRegression\n",
    "from sklearn.metrics import accuracy_score, confusion_matrix"
   ]
  },
  {
   "cell_type": "code",
   "execution_count": 45,
   "id": "aaff03a8",
   "metadata": {},
   "outputs": [],
   "source": [
    "new_data = pd.get_dummies(df, drop_first = True)"
   ]
  },
  {
   "cell_type": "code",
   "execution_count": 46,
   "id": "40c0d10e",
   "metadata": {},
   "outputs": [],
   "source": [
    "col_list = list(new_data.columns)"
   ]
  },
  {
   "cell_type": "code",
   "execution_count": 47,
   "id": "6e74590e",
   "metadata": {},
   "outputs": [],
   "source": [
    "features = list(set(col_list)-set(['Bodyfat']))"
   ]
  },
  {
   "cell_type": "code",
   "execution_count": 48,
   "id": "0db99ed2",
   "metadata": {},
   "outputs": [],
   "source": [
    "#Y = new_data['BodyFat'].values"
   ]
  },
  {
   "cell_type": "code",
   "execution_count": 50,
   "id": "3946adff",
   "metadata": {},
   "outputs": [],
   "source": [
    "X = new_data[features].values"
   ]
  },
  {
   "cell_type": "code",
   "execution_count": 56,
   "id": "ea93702e",
   "metadata": {},
   "outputs": [],
   "source": [
    "Y = df['BodyFat'].values"
   ]
  },
  {
   "cell_type": "code",
   "execution_count": null,
   "id": "7ddad742",
   "metadata": {},
   "outputs": [],
   "source": []
  },
  {
   "cell_type": "code",
   "execution_count": null,
   "id": "4afdce62",
   "metadata": {},
   "outputs": [],
   "source": []
  },
  {
   "cell_type": "code",
   "execution_count": null,
   "id": "2d36e53d",
   "metadata": {},
   "outputs": [],
   "source": []
  },
  {
   "cell_type": "code",
   "execution_count": 57,
   "id": "edec330d",
   "metadata": {},
   "outputs": [
    {
     "ename": "ValueError",
     "evalue": "The least populated class in y has only 1 member, which is too few. The minimum number of groups for any class cannot be less than 2.",
     "output_type": "error",
     "traceback": [
      "\u001b[1;31m---------------------------------------------------------------------------\u001b[0m",
      "\u001b[1;31mValueError\u001b[0m                                Traceback (most recent call last)",
      "Input \u001b[1;32mIn [57]\u001b[0m, in \u001b[0;36m<cell line: 1>\u001b[1;34m()\u001b[0m\n\u001b[1;32m----> 1\u001b[0m X_train, X_test, Y_train, Y_test \u001b[38;5;241m=\u001b[39m \u001b[43mtrain_test_split\u001b[49m\u001b[43m(\u001b[49m\u001b[43mX\u001b[49m\u001b[43m,\u001b[49m\u001b[43m \u001b[49m\u001b[43mY\u001b[49m\u001b[43m,\u001b[49m\u001b[43m \u001b[49m\u001b[43mtest_size\u001b[49m\u001b[38;5;241;43m=\u001b[39;49m\u001b[38;5;241;43m0.3\u001b[39;49m\u001b[43m,\u001b[49m\u001b[43m \u001b[49m\u001b[43mstratify\u001b[49m\u001b[38;5;241;43m=\u001b[39;49m\u001b[43mY\u001b[49m\u001b[43m,\u001b[49m\u001b[43m \u001b[49m\u001b[43mrandom_state\u001b[49m\u001b[38;5;241;43m=\u001b[39;49m\u001b[38;5;241;43m2\u001b[39;49m\u001b[43m)\u001b[49m\n",
      "File \u001b[1;32m~\\apps\\anaconda3\\lib\\site-packages\\sklearn\\model_selection\\_split.py:2441\u001b[0m, in \u001b[0;36mtrain_test_split\u001b[1;34m(test_size, train_size, random_state, shuffle, stratify, *arrays)\u001b[0m\n\u001b[0;32m   2437\u001b[0m         CVClass \u001b[38;5;241m=\u001b[39m ShuffleSplit\n\u001b[0;32m   2439\u001b[0m     cv \u001b[38;5;241m=\u001b[39m CVClass(test_size\u001b[38;5;241m=\u001b[39mn_test, train_size\u001b[38;5;241m=\u001b[39mn_train, random_state\u001b[38;5;241m=\u001b[39mrandom_state)\n\u001b[1;32m-> 2441\u001b[0m     train, test \u001b[38;5;241m=\u001b[39m \u001b[38;5;28;43mnext\u001b[39;49m\u001b[43m(\u001b[49m\u001b[43mcv\u001b[49m\u001b[38;5;241;43m.\u001b[39;49m\u001b[43msplit\u001b[49m\u001b[43m(\u001b[49m\u001b[43mX\u001b[49m\u001b[38;5;241;43m=\u001b[39;49m\u001b[43marrays\u001b[49m\u001b[43m[\u001b[49m\u001b[38;5;241;43m0\u001b[39;49m\u001b[43m]\u001b[49m\u001b[43m,\u001b[49m\u001b[43m \u001b[49m\u001b[43my\u001b[49m\u001b[38;5;241;43m=\u001b[39;49m\u001b[43mstratify\u001b[49m\u001b[43m)\u001b[49m\u001b[43m)\u001b[49m\n\u001b[0;32m   2443\u001b[0m \u001b[38;5;28;01mreturn\u001b[39;00m \u001b[38;5;28mlist\u001b[39m(\n\u001b[0;32m   2444\u001b[0m     chain\u001b[38;5;241m.\u001b[39mfrom_iterable(\n\u001b[0;32m   2445\u001b[0m         (_safe_indexing(a, train), _safe_indexing(a, test)) \u001b[38;5;28;01mfor\u001b[39;00m a \u001b[38;5;129;01min\u001b[39;00m arrays\n\u001b[0;32m   2446\u001b[0m     )\n\u001b[0;32m   2447\u001b[0m )\n",
      "File \u001b[1;32m~\\apps\\anaconda3\\lib\\site-packages\\sklearn\\model_selection\\_split.py:1600\u001b[0m, in \u001b[0;36mBaseShuffleSplit.split\u001b[1;34m(self, X, y, groups)\u001b[0m\n\u001b[0;32m   1570\u001b[0m \u001b[38;5;124;03m\"\"\"Generate indices to split data into training and test set.\u001b[39;00m\n\u001b[0;32m   1571\u001b[0m \n\u001b[0;32m   1572\u001b[0m \u001b[38;5;124;03mParameters\u001b[39;00m\n\u001b[1;32m   (...)\u001b[0m\n\u001b[0;32m   1597\u001b[0m \u001b[38;5;124;03mto an integer.\u001b[39;00m\n\u001b[0;32m   1598\u001b[0m \u001b[38;5;124;03m\"\"\"\u001b[39;00m\n\u001b[0;32m   1599\u001b[0m X, y, groups \u001b[38;5;241m=\u001b[39m indexable(X, y, groups)\n\u001b[1;32m-> 1600\u001b[0m \u001b[38;5;28;01mfor\u001b[39;00m train, test \u001b[38;5;129;01min\u001b[39;00m \u001b[38;5;28mself\u001b[39m\u001b[38;5;241m.\u001b[39m_iter_indices(X, y, groups):\n\u001b[0;32m   1601\u001b[0m     \u001b[38;5;28;01myield\u001b[39;00m train, test\n",
      "File \u001b[1;32m~\\apps\\anaconda3\\lib\\site-packages\\sklearn\\model_selection\\_split.py:1940\u001b[0m, in \u001b[0;36mStratifiedShuffleSplit._iter_indices\u001b[1;34m(self, X, y, groups)\u001b[0m\n\u001b[0;32m   1938\u001b[0m class_counts \u001b[38;5;241m=\u001b[39m np\u001b[38;5;241m.\u001b[39mbincount(y_indices)\n\u001b[0;32m   1939\u001b[0m \u001b[38;5;28;01mif\u001b[39;00m np\u001b[38;5;241m.\u001b[39mmin(class_counts) \u001b[38;5;241m<\u001b[39m \u001b[38;5;241m2\u001b[39m:\n\u001b[1;32m-> 1940\u001b[0m     \u001b[38;5;28;01mraise\u001b[39;00m \u001b[38;5;167;01mValueError\u001b[39;00m(\n\u001b[0;32m   1941\u001b[0m         \u001b[38;5;124m\"\u001b[39m\u001b[38;5;124mThe least populated class in y has only 1\u001b[39m\u001b[38;5;124m\"\u001b[39m\n\u001b[0;32m   1942\u001b[0m         \u001b[38;5;124m\"\u001b[39m\u001b[38;5;124m member, which is too few. The minimum\u001b[39m\u001b[38;5;124m\"\u001b[39m\n\u001b[0;32m   1943\u001b[0m         \u001b[38;5;124m\"\u001b[39m\u001b[38;5;124m number of groups for any class cannot\u001b[39m\u001b[38;5;124m\"\u001b[39m\n\u001b[0;32m   1944\u001b[0m         \u001b[38;5;124m\"\u001b[39m\u001b[38;5;124m be less than 2.\u001b[39m\u001b[38;5;124m\"\u001b[39m\n\u001b[0;32m   1945\u001b[0m     )\n\u001b[0;32m   1947\u001b[0m \u001b[38;5;28;01mif\u001b[39;00m n_train \u001b[38;5;241m<\u001b[39m n_classes:\n\u001b[0;32m   1948\u001b[0m     \u001b[38;5;28;01mraise\u001b[39;00m \u001b[38;5;167;01mValueError\u001b[39;00m(\n\u001b[0;32m   1949\u001b[0m         \u001b[38;5;124m\"\u001b[39m\u001b[38;5;124mThe train_size = \u001b[39m\u001b[38;5;132;01m%d\u001b[39;00m\u001b[38;5;124m should be greater or \u001b[39m\u001b[38;5;124m\"\u001b[39m\n\u001b[0;32m   1950\u001b[0m         \u001b[38;5;124m\"\u001b[39m\u001b[38;5;124mequal to the number of classes = \u001b[39m\u001b[38;5;132;01m%d\u001b[39;00m\u001b[38;5;124m\"\u001b[39m \u001b[38;5;241m%\u001b[39m (n_train, n_classes)\n\u001b[0;32m   1951\u001b[0m     )\n",
      "\u001b[1;31mValueError\u001b[0m: The least populated class in y has only 1 member, which is too few. The minimum number of groups for any class cannot be less than 2."
     ]
    }
   ],
   "source": [
    "X_train, X_test, Y_train, Y_test = train_test_split(X, Y, test_size=0.3, stratify=Y, random_state=2)"
   ]
  },
  {
   "cell_type": "code",
   "execution_count": null,
   "id": "5e6fe5cb",
   "metadata": {},
   "outputs": [],
   "source": []
  },
  {
   "cell_type": "code",
   "execution_count": null,
   "id": "014d4a5b",
   "metadata": {},
   "outputs": [],
   "source": []
  }
 ],
 "metadata": {
  "kernelspec": {
   "display_name": "Python 3 (ipykernel)",
   "language": "python",
   "name": "python3"
  },
  "language_info": {
   "codemirror_mode": {
    "name": "ipython",
    "version": 3
   },
   "file_extension": ".py",
   "mimetype": "text/x-python",
   "name": "python",
   "nbconvert_exporter": "python",
   "pygments_lexer": "ipython3",
   "version": "3.8.5"
  }
 },
 "nbformat": 4,
 "nbformat_minor": 5
}
